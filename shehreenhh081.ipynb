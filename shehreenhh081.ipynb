{
 "cells": [
  {
   "cell_type": "code",
   "execution_count": 7,
   "id": "b1aa4197",
   "metadata": {},
   "outputs": [
    {
     "name": "stdout",
     "output_type": "stream",
     "text": [
      "Area of Circle: 153.93804002589985\n",
      "Area of Rectangle: <bound method Rectangle.calculate_area of <__main__.Rectangle object at 0x0000011395F12690>>\n",
      "Area of Triangle: <bound method Triangle.calculate_area of <__main__.Triangle object at 0x0000011395E8B9D0>>\n"
     ]
    }
   ],
   "source": [
    "#SHEHREEN HUSSAIN\n",
    "#FA24-BBD-081\n",
    "#QUESTON 9\n",
    "class shape:\n",
    "    def area(Self):\n",
    "        pass\n",
    "class circle(shape):\n",
    "    def __init__(self,radius):\n",
    "        self.radius=radius\n",
    "        \n",
    "    def calculate_area(self):\n",
    "        return 3.1416 * (self.radius ** 2)\n",
    "    \n",
    "class Rectangle(Shape):\n",
    "    def __init__(self, width, height):\n",
    "        self.width = width\n",
    "        self.height = height\n",
    "        \n",
    "    def calculate_area(self):\n",
    "        return self.width * self.height\n",
    "    \n",
    "    \n",
    "class Triangle(Shape):\n",
    "    def __init__(self, base, height):\n",
    "        self.base = base\n",
    "        self.height = height\n",
    "        \n",
    "    def calculate_area(self):\n",
    "        return 0.5 * self.base * self.height\n",
    "    \n",
    "    circle = Circle(7)\n",
    "    print(f\"Area of Circle: {circle.calculate_area()}\")\n",
    "\n",
    "    rectangle = Rectangle(2, 6)\n",
    "    print(f\"Area of Rectangle: {rectangle.calculate_area}\")\n",
    "\n",
    "    triangle = Triangle(3, 10)\n",
    "    print(f\"Area of Triangle: {triangle.calculate_area}\")\n",
    "\n",
    "    \n",
    "\n",
    "        "
   ]
  },
  {
   "cell_type": "code",
   "execution_count": 11,
   "id": "2391c5cb",
   "metadata": {},
   "outputs": [
    {
     "name": "stdout",
     "output_type": "stream",
     "text": [
      "chuski says bhaoo bhaoo!\n",
      "mimi says meow!\n",
      "gaaawnnn says moooooo!\n"
     ]
    }
   ],
   "source": [
    "#QUESTION 10\n",
    "class Animal:\n",
    "    def __init__(self,name,sound):\n",
    "        self.name=name\n",
    "        self.sound=sound\n",
    "    def make_sound(self):\n",
    "        return f\"{self.name} says {self.sound}!\"\n",
    "class dog(Animal):\n",
    "    def __init__(self,name):\n",
    "        self.name=name\n",
    "        self.sound= \"bhaoo bhaoo\"\n",
    "class cat(Animal):\n",
    "    def __init__(self,name):\n",
    "        self.name=name\n",
    "        self.sound= \"meow\"\n",
    "class cow(Animal):\n",
    "    def __init__(self,name):\n",
    "        self.name= name\n",
    "        self.sound= \"moooooo\"\n",
    "dog=dog(\"chuski\")\n",
    "print(dog.make_sound())\n",
    "cat=cat(\"mimi\")\n",
    "print(cat.make_sound())\n",
    "cow=cow(\"gaaawnnn\")\n",
    "print(cow.make_sound())\n",
    "    \n"
   ]
  },
  {
   "cell_type": "code",
   "execution_count": null,
   "id": "4ef65eae",
   "metadata": {},
   "outputs": [],
   "source": []
  }
 ],
 "metadata": {
  "kernelspec": {
   "display_name": "Python 3 (ipykernel)",
   "language": "python",
   "name": "python3"
  },
  "language_info": {
   "codemirror_mode": {
    "name": "ipython",
    "version": 3
   },
   "file_extension": ".py",
   "mimetype": "text/x-python",
   "name": "python",
   "nbconvert_exporter": "python",
   "pygments_lexer": "ipython3",
   "version": "3.11.5"
  }
 },
 "nbformat": 4,
 "nbformat_minor": 5
}
